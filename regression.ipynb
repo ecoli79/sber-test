{
 "cells": [
  {
   "cell_type": "code",
   "execution_count": 174,
   "id": "a29dc87f",
   "metadata": {},
   "outputs": [],
   "source": [
    "import numpy as np\n",
    "import pandas as pd\n",
    "import matplotlib.pyplot as plt\n",
    "import seaborn as sns\n",
    "%matplotlib inline\n",
    "from sklearn.linear_model import LinearRegression\n",
    "from sklearn.ensemble import GradientBoostingRegressor\n",
    "from sklearn.metrics import mean_squared_error, r2_score\n",
    "from sklearn.model_selection import train_test_split\n",
    "from sklearn.utils import shuffle\n",
    "from sklearn.preprocessing import StandardScaler"
   ]
  },
  {
   "cell_type": "code",
   "execution_count": 46,
   "id": "7a2c21c1",
   "metadata": {},
   "outputs": [],
   "source": [
    "data = pd.read_excel('./Приложение №1.xlsx', engine='openpyxl')"
   ]
  },
  {
   "cell_type": "code",
   "execution_count": 47,
   "id": "1204056a",
   "metadata": {},
   "outputs": [
    {
     "data": {
      "text/plain": [
       "1146"
      ]
     },
     "execution_count": 47,
     "metadata": {},
     "output_type": "execute_result"
    }
   ],
   "source": [
    "# getting atms numbers\n",
    "atms = data['TERMINAL_ID'].unique()\n",
    "len(atms)"
   ]
  },
  {
   "cell_type": "code",
   "execution_count": 48,
   "id": "76a13bf9",
   "metadata": {},
   "outputs": [],
   "source": [
    "# getting support data for analise. Insert number month and number day \n",
    "data['month'] = pd.DatetimeIndex(data['date']).month\n",
    "data['dayofmonth'] = data['date'].dt.day"
   ]
  },
  {
   "cell_type": "markdown",
   "id": "677260c4",
   "metadata": {},
   "source": [
    "### Проведем небольшой EDA"
   ]
  },
  {
   "cell_type": "code",
   "execution_count": 49,
   "id": "086315ef",
   "metadata": {},
   "outputs": [
    {
     "data": {
      "text/plain": [
       "count       62936.000\n",
       "mean      2066957.088\n",
       "std       2374764.419\n",
       "min           500.000\n",
       "25%        493500.000\n",
       "50%       1342000.000\n",
       "75%       2783625.000\n",
       "max      33363000.000\n",
       "Name: sum, dtype: object"
      ]
     },
     "execution_count": 49,
     "metadata": {},
     "output_type": "execute_result"
    }
   ],
   "source": [
    "data['sum'].describe().apply(\"{0:.3f}\".format)"
   ]
  },
  {
   "cell_type": "code",
   "execution_count": 50,
   "id": "abb8410a",
   "metadata": {},
   "outputs": [
    {
     "data": {
      "text/plain": [
       "<AxesSubplot:ylabel='Frequency'>"
      ]
     },
     "execution_count": 50,
     "metadata": {},
     "output_type": "execute_result"
    },
    {
     "data": {
      "image/png": "[encoded data removed]",
      "text/plain": [
       "<Figure size 432x288 with 1 Axes>"
      ]
     },
     "metadata": {
      "needs_background": "light"
     },
     "output_type": "display_data"
    }
   ],
   "source": [
    "data['sum'].plot.hist()"
   ]
  },
  {
   "cell_type": "markdown",
   "id": "9b536395",
   "metadata": {},
   "source": [
    "данные \"ровные\", никаких аномалий не видно"
   ]
  },
  {
   "cell_type": "markdown",
   "id": "51cbcb40",
   "metadata": {},
   "source": [
    "#### Сделаем пробное предсказание на примере одного из банкоматов"
   ]
  },
  {
   "cell_type": "code",
   "execution_count": 97,
   "id": "abbe49cb",
   "metadata": {},
   "outputs": [
    {
     "data": {
      "text/html": [
       "<div>\n",
       "<style scoped>\n",
       "    .dataframe tbody tr th:only-of-type {\n",
       "        vertical-align: middle;\n",
       "    }\n",
       "\n",
       "    .dataframe tbody tr th {\n",
       "        vertical-align: top;\n",
       "    }\n",
       "\n",
       "    .dataframe thead th {\n",
       "        text-align: right;\n",
       "    }\n",
       "</style>\n",
       "<table border=\"1\" class=\"dataframe\">\n",
       "  <thead>\n",
       "    <tr style=\"text-align: right;\">\n",
       "      <th></th>\n",
       "      <th>TERMINAL_ID</th>\n",
       "      <th>date</th>\n",
       "      <th>sum</th>\n",
       "      <th>month</th>\n",
       "      <th>dayofmonth</th>\n",
       "    </tr>\n",
       "  </thead>\n",
       "  <tbody>\n",
       "    <tr>\n",
       "      <th>0</th>\n",
       "      <td>11003</td>\n",
       "      <td>2020-07-15</td>\n",
       "      <td>1492000</td>\n",
       "      <td>7</td>\n",
       "      <td>15</td>\n",
       "    </tr>\n",
       "    <tr>\n",
       "      <th>1</th>\n",
       "      <td>11003</td>\n",
       "      <td>2020-07-16</td>\n",
       "      <td>2027000</td>\n",
       "      <td>7</td>\n",
       "      <td>16</td>\n",
       "    </tr>\n",
       "    <tr>\n",
       "      <th>2</th>\n",
       "      <td>11003</td>\n",
       "      <td>2020-07-17</td>\n",
       "      <td>728000</td>\n",
       "      <td>7</td>\n",
       "      <td>17</td>\n",
       "    </tr>\n",
       "    <tr>\n",
       "      <th>3</th>\n",
       "      <td>11003</td>\n",
       "      <td>2020-07-18</td>\n",
       "      <td>890000</td>\n",
       "      <td>7</td>\n",
       "      <td>18</td>\n",
       "    </tr>\n",
       "    <tr>\n",
       "      <th>4</th>\n",
       "      <td>11003</td>\n",
       "      <td>2020-07-19</td>\n",
       "      <td>940000</td>\n",
       "      <td>7</td>\n",
       "      <td>19</td>\n",
       "    </tr>\n",
       "    <tr>\n",
       "      <th>...</th>\n",
       "      <td>...</td>\n",
       "      <td>...</td>\n",
       "      <td>...</td>\n",
       "      <td>...</td>\n",
       "      <td>...</td>\n",
       "    </tr>\n",
       "    <tr>\n",
       "      <th>62</th>\n",
       "      <td>11003</td>\n",
       "      <td>2020-09-15</td>\n",
       "      <td>2752000</td>\n",
       "      <td>9</td>\n",
       "      <td>15</td>\n",
       "    </tr>\n",
       "    <tr>\n",
       "      <th>63</th>\n",
       "      <td>11003</td>\n",
       "      <td>2020-09-16</td>\n",
       "      <td>1226000</td>\n",
       "      <td>9</td>\n",
       "      <td>16</td>\n",
       "    </tr>\n",
       "    <tr>\n",
       "      <th>64</th>\n",
       "      <td>11003</td>\n",
       "      <td>2020-09-17</td>\n",
       "      <td>1193000</td>\n",
       "      <td>9</td>\n",
       "      <td>17</td>\n",
       "    </tr>\n",
       "    <tr>\n",
       "      <th>65</th>\n",
       "      <td>11003</td>\n",
       "      <td>2020-09-18</td>\n",
       "      <td>1512000</td>\n",
       "      <td>9</td>\n",
       "      <td>18</td>\n",
       "    </tr>\n",
       "    <tr>\n",
       "      <th>66</th>\n",
       "      <td>11003</td>\n",
       "      <td>2020-09-19</td>\n",
       "      <td>631000</td>\n",
       "      <td>9</td>\n",
       "      <td>19</td>\n",
       "    </tr>\n",
       "  </tbody>\n",
       "</table>\n",
       "<p>67 rows × 5 columns</p>\n",
       "</div>"
      ],
      "text/plain": [
       "    TERMINAL_ID       date      sum  month  dayofmonth\n",
       "0         11003 2020-07-15  1492000      7          15\n",
       "1         11003 2020-07-16  2027000      7          16\n",
       "2         11003 2020-07-17   728000      7          17\n",
       "3         11003 2020-07-18   890000      7          18\n",
       "4         11003 2020-07-19   940000      7          19\n",
       "..          ...        ...      ...    ...         ...\n",
       "62        11003 2020-09-15  2752000      9          15\n",
       "63        11003 2020-09-16  1226000      9          16\n",
       "64        11003 2020-09-17  1193000      9          17\n",
       "65        11003 2020-09-18  1512000      9          18\n",
       "66        11003 2020-09-19   631000      9          19\n",
       "\n",
       "[67 rows x 5 columns]"
      ]
     },
     "execution_count": 97,
     "metadata": {},
     "output_type": "execute_result"
    }
   ],
   "source": [
    "data_by_atm = data[data['TERMINAL_ID'] == 11003]\n",
    "data_by_atm"
   ]
  },
  {
   "cell_type": "code",
   "execution_count": 128,
   "id": "2d4b56ec",
   "metadata": {},
   "outputs": [
    {
     "data": {
      "text/plain": [
       "<AxesSubplot:xlabel='date'>"
      ]
     },
     "execution_count": 128,
     "metadata": {},
     "output_type": "execute_result"
    },
    {
     "data": {
      "image/png": "[encoded data removed]",
      "text/plain": [
       "<Figure size 432x288 with 1 Axes>"
      ]
     },
     "metadata": {
      "needs_background": "light"
     },
     "output_type": "display_data"
    }
   ],
   "source": [
    "data_by_atm.where(data_by_atm['month'] == 8).plot.line(x='date', y='sum')"
   ]
  },
  {
   "cell_type": "code",
   "execution_count": 147,
   "id": "876ee5d4",
   "metadata": {},
   "outputs": [
    {
     "data": {
      "image/png": "[encoded data removed]",
      "text/plain": [
       "<Figure size 432x288 with 1 Axes>"
      ]
     },
     "metadata": {
      "needs_background": "light"
     },
     "output_type": "display_data"
    }
   ],
   "source": [
    "#plt.plot(range(1,len(y) + 1), y, label = 'augst')\n",
    "plt.plot(range(1, len(lr_pred) + 1), lr_pred, label = 'lr_model')\n",
    "#plt.plot(range(1, len(gb_october) + 1), gb_october, label = 'gb_model')\n",
    "plt.legend()\n",
    "plt.show()"
   ]
  },
  {
   "cell_type": "code",
   "execution_count": 152,
   "id": "6060e141",
   "metadata": {},
   "outputs": [
    {
     "data": {
      "text/plain": [
       "(array([12, 12, 15, 15, 18,  1, 22, 25, 14,  7,  3, 28, 26, 15, 30, 28,  6,\n",
       "        18,  1, 17, 23, 31, 21, 19, 18, 30, 11, 10,  8,  3, 26, 16, 16,  2,\n",
       "        21, 13, 27,  8, 16,  5, 17,  9, 23, 19,  5,  7, 11, 25,  6,  2, 10,\n",
       "        22,  4, 13, 29,  4]),\n",
       " array([2248000, 1772000, 1492000, 2752000, 2147000, 1897000, 2024000,\n",
       "         172000, 2153000, 1925000, 4146000, 2734000,  962000, 1165000,\n",
       "         582000,  862000, 1560000,  890000,  525000, 2283000, 1690000,\n",
       "         666000, 1583000,  631000, 1512000, 2451000, 3271000, 4970000,\n",
       "        3238000, 3626000,  444000,  478000, 1226000, 4131000, 3709000,\n",
       "        1458000, 1364000, 3941000, 2027000, 3344000,  728000, 2445000,\n",
       "         762000, 1758000, 2148000, 3085000, 4008000, 1525000, 5603000,\n",
       "         593000, 4583000,  122000, 3092000,  617000, 1901000, 4836000]))"
      ]
     },
     "execution_count": 152,
     "metadata": {},
     "output_type": "execute_result"
    }
   ],
   "source": [
    "scaler = StandardScaler()\n",
    "\n",
    "x = data_by_atm['dayofmonth']\n",
    "y = data_by_atm['sum']\n",
    "#y = scaler.fit_transform(np.array(y).reshape(-1, 1))\n",
    "x_data, y_data = np.array(x), np.array(y)\n",
    "x_train, x_test, y_train, y_test = train_test_split(x_data, y_data, test_size=0.15, random_state=42)\n",
    "x_train, y_train"
   ]
  },
  {
   "cell_type": "code",
   "execution_count": 153,
   "id": "0451800b",
   "metadata": {},
   "outputs": [
    {
     "data": {
      "text/plain": [
       "-3.0222955989085953"
      ]
     },
     "execution_count": 153,
     "metadata": {},
     "output_type": "execute_result"
    }
   ],
   "source": [
    "# модель линейная регрессия\n",
    "lr_model = LinearRegression()\n",
    "lr_model.fit(x_train.reshape(-1, 1), y_train.reshape(-1, 1))\n",
    "score = lr_model.score(x_test.reshape(-1, 1), y_test.reshape(-1, 1))\n",
    "score"
   ]
  },
  {
   "cell_type": "code",
   "execution_count": 154,
   "id": "599710b7",
   "metadata": {},
   "outputs": [
    {
     "data": {
      "text/plain": [
       "(array([20, 31, 19, 24, 29, 24, 14, 20, 17, 27,  9]),\n",
       " array([1544000, 1152000,  940000, 2031000, 1155000, 1182000, 1366000,\n",
       "        1893000, 1193000, 1632000,  809000]))"
      ]
     },
     "execution_count": 154,
     "metadata": {},
     "output_type": "execute_result"
    }
   ],
   "source": [
    "x_test, y_test"
   ]
  },
  {
   "cell_type": "code",
   "execution_count": 172,
   "id": "be2468dd",
   "metadata": {},
   "outputs": [
    {
     "data": {
      "text/plain": [
       "-3.100377601708371"
      ]
     },
     "execution_count": 172,
     "metadata": {},
     "output_type": "execute_result"
    }
   ],
   "source": [
    "# модель градиентный бустинг \n",
    "gb_model = GradientBoostingRegressor(n_estimators=50, max_depth=1, criterion='friedman_mse', loss='ls', learning_rate=0.01)\n",
    "gb_model.fit(x_train.reshape(-1, 1), y_train.ravel())\n",
    "score = gb_model.score(x_test.reshape(-1, 1), y_test.reshape(-1 ,1))\n",
    "score"
   ]
  },
  {
   "cell_type": "code",
   "execution_count": 156,
   "id": "ab0d0919",
   "metadata": {},
   "outputs": [
    {
     "data": {
      "text/plain": [
       "array([1845929.82758469, 1845929.82758469, 1845929.82758469,\n",
       "       1845929.82758469, 1845929.82758469, 1845929.82758469,\n",
       "       1845929.82758469, 1845929.82758469, 1845929.82758469,\n",
       "       1845929.82758469, 2530504.8403439 , 1900357.02124169,\n",
       "       1900357.02124169, 1845929.82758469])"
      ]
     },
     "execution_count": 156,
     "metadata": {},
     "output_type": "execute_result"
    }
   ],
   "source": [
    "# проверим работу модели GBR\n",
    "x_try = np.array([20, 31, 19, 24, 29, 24, 14, 20, 17, 27,  9, 12, 12, 15])\n",
    "predicts = gb_model.predict(x_try.reshape(-1 ,1))\n",
    "predicts"
   ]
  },
  {
   "cell_type": "code",
   "execution_count": 157,
   "id": "98a1d97e",
   "metadata": {},
   "outputs": [
    {
     "data": {
      "text/plain": [
       "array([1544000, 1152000,  940000, 2031000, 1155000, 1182000, 1366000,\n",
       "       1893000, 1193000, 1632000,  809000])"
      ]
     },
     "execution_count": 157,
     "metadata": {},
     "output_type": "execute_result"
    }
   ],
   "source": [
    "# выше предсказанные даные, ниже реальные данные. На первый взгляд все хорошо\n",
    "y_test"
   ]
  },
  {
   "cell_type": "code",
   "execution_count": 158,
   "id": "e3d4e768",
   "metadata": {},
   "outputs": [
    {
     "data": {
      "text/plain": [
       "array([[1721717.51193152],\n",
       "       [ 870277.03304999],\n",
       "       [1799121.19182984],\n",
       "       [1412102.79233824],\n",
       "       [1025084.39284663],\n",
       "       [1412102.79233824],\n",
       "       [2186139.59132145],\n",
       "       [1721717.51193152],\n",
       "       [1953928.55162648],\n",
       "       [1179891.75264327],\n",
       "       [2573157.99081305],\n",
       "       [2340946.95111809],\n",
       "       [2340946.95111809],\n",
       "       [2108735.91142312]])"
      ]
     },
     "execution_count": 158,
     "metadata": {},
     "output_type": "execute_result"
    }
   ],
   "source": [
    "# проверим работу линейной модели\n",
    "preds = lr_model.predict(x_try.reshape(-1,1))\n",
    "preds"
   ]
  },
  {
   "cell_type": "code",
   "execution_count": 159,
   "id": "3aba2af5",
   "metadata": {},
   "outputs": [
    {
     "data": {
      "image/png": "[encoded data removed]",
      "text/plain": [
       "<Figure size 432x288 with 1 Axes>"
      ]
     },
     "metadata": {
      "needs_background": "light"
     },
     "output_type": "display_data"
    }
   ],
   "source": [
    "plt.grid()\n",
    "plt.plot(range(1,len(y_test) + 1), y_test, label = 'y_test')\n",
    "plt.plot(range(1, len(preds) + 1), preds, label = 'lr_model')\n",
    "#plt.plot(range(1, len(predicts) + 1), predicts, label = 'gb_model')\n",
    "plt.legend()\n",
    "plt.show()"
   ]
  },
  {
   "cell_type": "code",
   "execution_count": 160,
   "id": "b4f0e1a7",
   "metadata": {},
   "outputs": [
    {
     "data": {
      "text/plain": [
       "(31,)"
      ]
     },
     "execution_count": 160,
     "metadata": {},
     "output_type": "execute_result"
    }
   ],
   "source": [
    "# подготовим данные для октября\n",
    "october = [i for i in range(1,32)]\n",
    "p = np.array(october)\n",
    "p.shape"
   ]
  },
  {
   "cell_type": "code",
   "execution_count": 170,
   "id": "c250967f",
   "metadata": {},
   "outputs": [
    {
     "data": {
      "text/plain": [
       "array([2530504.8403439 , 2530504.8403439 , 2530504.8403439 ,\n",
       "       2530504.8403439 , 2530504.8403439 , 2530504.8403439 ,\n",
       "       2530504.8403439 , 2530504.8403439 , 2530504.8403439 ,\n",
       "       2530504.8403439 , 2530504.8403439 , 1900357.02124169,\n",
       "       1845929.82758469, 1845929.82758469, 1845929.82758469,\n",
       "       1845929.82758469, 1845929.82758469, 1845929.82758469,\n",
       "       1845929.82758469, 1845929.82758469, 1845929.82758469,\n",
       "       1845929.82758469, 1845929.82758469, 1845929.82758469,\n",
       "       1845929.82758469, 1845929.82758469, 1845929.82758469,\n",
       "       1845929.82758469, 1845929.82758469, 1845929.82758469,\n",
       "       1845929.82758469])"
      ]
     },
     "execution_count": 170,
     "metadata": {},
     "output_type": "execute_result"
    }
   ],
   "source": [
    "gb_october = gb_model.predict(p.reshape(-1, 1))\n",
    "gb_october"
   ]
  },
  {
   "cell_type": "code",
   "execution_count": 171,
   "id": "2b70aa36",
   "metadata": {},
   "outputs": [
    {
     "data": {
      "text/plain": [
       "array([[3192387.42999962],\n",
       "       [3114983.75010129],\n",
       "       [3037580.07020297],\n",
       "       [2960176.39030465],\n",
       "       [2882772.71040633],\n",
       "       [2805369.03050801],\n",
       "       [2727965.35060969],\n",
       "       [2650561.67071137],\n",
       "       [2573157.99081305],\n",
       "       [2495754.31091473],\n",
       "       [2418350.63101641],\n",
       "       [2340946.95111809],\n",
       "       [2263543.27121977],\n",
       "       [2186139.59132145],\n",
       "       [2108735.91142312],\n",
       "       [2031332.2315248 ],\n",
       "       [1953928.55162648],\n",
       "       [1876524.87172816],\n",
       "       [1799121.19182984],\n",
       "       [1721717.51193152],\n",
       "       [1644313.8320332 ],\n",
       "       [1566910.15213488],\n",
       "       [1489506.47223656],\n",
       "       [1412102.79233824],\n",
       "       [1334699.11243992],\n",
       "       [1257295.4325416 ],\n",
       "       [1179891.75264327],\n",
       "       [1102488.07274495],\n",
       "       [1025084.39284663],\n",
       "       [ 947680.71294831],\n",
       "       [ 870277.03304999]])"
      ]
     },
     "execution_count": 171,
     "metadata": {},
     "output_type": "execute_result"
    }
   ],
   "source": [
    "lr_october = lr_model.predict(p.reshape(-1, 1))\n",
    "lr_october"
   ]
  },
  {
   "cell_type": "code",
   "execution_count": 166,
   "id": "17573168",
   "metadata": {},
   "outputs": [
    {
     "data": {
      "text/plain": [
       "17     525000\n",
       "18     593000\n",
       "19    4146000\n",
       "20    3092000\n",
       "21    3344000\n",
       "22    5603000\n",
       "23    3085000\n",
       "24    3238000\n",
       "25     809000\n",
       "26    4970000\n",
       "27    3271000\n",
       "28    1772000\n",
       "29    1458000\n",
       "30    2153000\n",
       "31    1165000\n",
       "32     478000\n",
       "33    2283000\n",
       "34    2147000\n",
       "35    1758000\n",
       "36    1544000\n",
       "37    3709000\n",
       "38     122000\n",
       "39     762000\n",
       "40    1182000\n",
       "41     172000\n",
       "42     962000\n",
       "43    1364000\n",
       "44    2734000\n",
       "45    1155000\n",
       "46     582000\n",
       "47     666000\n",
       "Name: sum, dtype: int64"
      ]
     },
     "execution_count": 166,
     "metadata": {},
     "output_type": "execute_result"
    }
   ],
   "source": [
    "# сравним с августом, так как в этом месяце больше данных\n",
    "y = data_by_atm['sum'][data['month'] == 8]\n",
    "y"
   ]
  },
  {
   "cell_type": "code",
   "execution_count": 168,
   "id": "dc4a0ba9",
   "metadata": {},
   "outputs": [
    {
     "ename": "Exception",
     "evalue": "Data must be 1-dimensional",
     "output_type": "error",
     "traceback": [
      "\u001b[0;31m---------------------------------------------------------------------------\u001b[0m",
      "\u001b[0;31mException\u001b[0m                                 Traceback (most recent call last)",
      "\u001b[0;32m<ipython-input-168-95b17e049a3c>\u001b[0m in \u001b[0;36m<module>\u001b[0;34m\u001b[0m\n\u001b[1;32m      1\u001b[0m \u001b[0mdata_for_plot\u001b[0m \u001b[0;34m=\u001b[0m \u001b[0mpd\u001b[0m\u001b[0;34m.\u001b[0m\u001b[0mDataFrame\u001b[0m\u001b[0;34m(\u001b[0m\u001b[0mcolumns\u001b[0m\u001b[0;34m=\u001b[0m\u001b[0;34m[\u001b[0m\u001b[0;34m'lr_model'\u001b[0m\u001b[0;34m,\u001b[0m \u001b[0;34m'august'\u001b[0m\u001b[0;34m]\u001b[0m\u001b[0;34m)\u001b[0m\u001b[0;34m\u001b[0m\u001b[0;34m\u001b[0m\u001b[0m\n\u001b[0;32m----> 2\u001b[0;31m \u001b[0mdata_for_plot\u001b[0m\u001b[0;34m[\u001b[0m\u001b[0;34m'lr_model'\u001b[0m\u001b[0;34m]\u001b[0m \u001b[0;34m=\u001b[0m \u001b[0mlr_october\u001b[0m\u001b[0;34m\u001b[0m\u001b[0;34m\u001b[0m\u001b[0m\n\u001b[0m\u001b[1;32m      3\u001b[0m \u001b[0mdata_for_plot\u001b[0m\u001b[0;34m[\u001b[0m\u001b[0;34m'august'\u001b[0m\u001b[0;34m]\u001b[0m \u001b[0;34m=\u001b[0m \u001b[0my\u001b[0m\u001b[0;34m\u001b[0m\u001b[0;34m\u001b[0m\u001b[0m\n\u001b[1;32m      4\u001b[0m \u001b[0mdata_for_plot\u001b[0m\u001b[0;34m\u001b[0m\u001b[0;34m\u001b[0m\u001b[0m\n",
      "\u001b[0;32m~/python36/lib64/python3.6/site-packages/pandas/core/frame.py\u001b[0m in \u001b[0;36m__setitem__\u001b[0;34m(self, key, value)\u001b[0m\n\u001b[1;32m   3042\u001b[0m         \u001b[0;32melse\u001b[0m\u001b[0;34m:\u001b[0m\u001b[0;34m\u001b[0m\u001b[0;34m\u001b[0m\u001b[0m\n\u001b[1;32m   3043\u001b[0m             \u001b[0;31m# set column\u001b[0m\u001b[0;34m\u001b[0m\u001b[0;34m\u001b[0m\u001b[0;34m\u001b[0m\u001b[0m\n\u001b[0;32m-> 3044\u001b[0;31m             \u001b[0mself\u001b[0m\u001b[0;34m.\u001b[0m\u001b[0m_set_item\u001b[0m\u001b[0;34m(\u001b[0m\u001b[0mkey\u001b[0m\u001b[0;34m,\u001b[0m \u001b[0mvalue\u001b[0m\u001b[0;34m)\u001b[0m\u001b[0;34m\u001b[0m\u001b[0;34m\u001b[0m\u001b[0m\n\u001b[0m\u001b[1;32m   3045\u001b[0m \u001b[0;34m\u001b[0m\u001b[0m\n\u001b[1;32m   3046\u001b[0m     \u001b[0;32mdef\u001b[0m \u001b[0m_setitem_slice\u001b[0m\u001b[0;34m(\u001b[0m\u001b[0mself\u001b[0m\u001b[0;34m,\u001b[0m \u001b[0mkey\u001b[0m\u001b[0;34m:\u001b[0m \u001b[0mslice\u001b[0m\u001b[0;34m,\u001b[0m \u001b[0mvalue\u001b[0m\u001b[0;34m)\u001b[0m\u001b[0;34m:\u001b[0m\u001b[0;34m\u001b[0m\u001b[0;34m\u001b[0m\u001b[0m\n",
      "\u001b[0;32m~/python36/lib64/python3.6/site-packages/pandas/core/frame.py\u001b[0m in \u001b[0;36m_set_item\u001b[0;34m(self, key, value)\u001b[0m\n\u001b[1;32m   3117\u001b[0m         \u001b[0mensure\u001b[0m \u001b[0mhomogeneity\u001b[0m\u001b[0;34m.\u001b[0m\u001b[0;34m\u001b[0m\u001b[0;34m\u001b[0m\u001b[0m\n\u001b[1;32m   3118\u001b[0m         \"\"\"\n\u001b[0;32m-> 3119\u001b[0;31m         \u001b[0mself\u001b[0m\u001b[0;34m.\u001b[0m\u001b[0m_ensure_valid_index\u001b[0m\u001b[0;34m(\u001b[0m\u001b[0mvalue\u001b[0m\u001b[0;34m)\u001b[0m\u001b[0;34m\u001b[0m\u001b[0;34m\u001b[0m\u001b[0m\n\u001b[0m\u001b[1;32m   3120\u001b[0m         \u001b[0mvalue\u001b[0m \u001b[0;34m=\u001b[0m \u001b[0mself\u001b[0m\u001b[0;34m.\u001b[0m\u001b[0m_sanitize_column\u001b[0m\u001b[0;34m(\u001b[0m\u001b[0mkey\u001b[0m\u001b[0;34m,\u001b[0m \u001b[0mvalue\u001b[0m\u001b[0;34m)\u001b[0m\u001b[0;34m\u001b[0m\u001b[0;34m\u001b[0m\u001b[0m\n\u001b[1;32m   3121\u001b[0m         \u001b[0mNDFrame\u001b[0m\u001b[0;34m.\u001b[0m\u001b[0m_set_item\u001b[0m\u001b[0;34m(\u001b[0m\u001b[0mself\u001b[0m\u001b[0;34m,\u001b[0m \u001b[0mkey\u001b[0m\u001b[0;34m,\u001b[0m \u001b[0mvalue\u001b[0m\u001b[0;34m)\u001b[0m\u001b[0;34m\u001b[0m\u001b[0;34m\u001b[0m\u001b[0m\n",
      "\u001b[0;32m~/python36/lib64/python3.6/site-packages/pandas/core/frame.py\u001b[0m in \u001b[0;36m_ensure_valid_index\u001b[0;34m(self, value)\u001b[0m\n\u001b[1;32m   3168\u001b[0m         \u001b[0;32mif\u001b[0m \u001b[0;32mnot\u001b[0m \u001b[0mlen\u001b[0m\u001b[0;34m(\u001b[0m\u001b[0mself\u001b[0m\u001b[0;34m.\u001b[0m\u001b[0mindex\u001b[0m\u001b[0;34m)\u001b[0m \u001b[0;32mand\u001b[0m \u001b[0mis_list_like\u001b[0m\u001b[0;34m(\u001b[0m\u001b[0mvalue\u001b[0m\u001b[0;34m)\u001b[0m \u001b[0;32mand\u001b[0m \u001b[0mlen\u001b[0m\u001b[0;34m(\u001b[0m\u001b[0mvalue\u001b[0m\u001b[0;34m)\u001b[0m\u001b[0;34m:\u001b[0m\u001b[0;34m\u001b[0m\u001b[0;34m\u001b[0m\u001b[0m\n\u001b[1;32m   3169\u001b[0m             \u001b[0;32mtry\u001b[0m\u001b[0;34m:\u001b[0m\u001b[0;34m\u001b[0m\u001b[0;34m\u001b[0m\u001b[0m\n\u001b[0;32m-> 3170\u001b[0;31m                 \u001b[0mvalue\u001b[0m \u001b[0;34m=\u001b[0m \u001b[0mSeries\u001b[0m\u001b[0;34m(\u001b[0m\u001b[0mvalue\u001b[0m\u001b[0;34m)\u001b[0m\u001b[0;34m\u001b[0m\u001b[0;34m\u001b[0m\u001b[0m\n\u001b[0m\u001b[1;32m   3171\u001b[0m             \u001b[0;32mexcept\u001b[0m \u001b[0;34m(\u001b[0m\u001b[0mValueError\u001b[0m\u001b[0;34m,\u001b[0m \u001b[0mNotImplementedError\u001b[0m\u001b[0;34m,\u001b[0m \u001b[0mTypeError\u001b[0m\u001b[0;34m)\u001b[0m \u001b[0;32mas\u001b[0m \u001b[0merr\u001b[0m\u001b[0;34m:\u001b[0m\u001b[0;34m\u001b[0m\u001b[0;34m\u001b[0m\u001b[0m\n\u001b[1;32m   3172\u001b[0m                 raise ValueError(\n",
      "\u001b[0;32m~/python36/lib64/python3.6/site-packages/pandas/core/series.py\u001b[0m in \u001b[0;36m__init__\u001b[0;34m(self, data, index, dtype, name, copy, fastpath)\u001b[0m\n\u001b[1;32m    325\u001b[0m                     \u001b[0mdata\u001b[0m \u001b[0;34m=\u001b[0m \u001b[0mdata\u001b[0m\u001b[0;34m.\u001b[0m\u001b[0mcopy\u001b[0m\u001b[0;34m(\u001b[0m\u001b[0;34m)\u001b[0m\u001b[0;34m\u001b[0m\u001b[0;34m\u001b[0m\u001b[0m\n\u001b[1;32m    326\u001b[0m             \u001b[0;32melse\u001b[0m\u001b[0;34m:\u001b[0m\u001b[0;34m\u001b[0m\u001b[0;34m\u001b[0m\u001b[0m\n\u001b[0;32m--> 327\u001b[0;31m                 \u001b[0mdata\u001b[0m \u001b[0;34m=\u001b[0m \u001b[0msanitize_array\u001b[0m\u001b[0;34m(\u001b[0m\u001b[0mdata\u001b[0m\u001b[0;34m,\u001b[0m \u001b[0mindex\u001b[0m\u001b[0;34m,\u001b[0m \u001b[0mdtype\u001b[0m\u001b[0;34m,\u001b[0m \u001b[0mcopy\u001b[0m\u001b[0;34m,\u001b[0m \u001b[0mraise_cast_failure\u001b[0m\u001b[0;34m=\u001b[0m\u001b[0;32mTrue\u001b[0m\u001b[0;34m)\u001b[0m\u001b[0;34m\u001b[0m\u001b[0;34m\u001b[0m\u001b[0m\n\u001b[0m\u001b[1;32m    328\u001b[0m \u001b[0;34m\u001b[0m\u001b[0m\n\u001b[1;32m    329\u001b[0m                 \u001b[0mdata\u001b[0m \u001b[0;34m=\u001b[0m \u001b[0mSingleBlockManager\u001b[0m\u001b[0;34m.\u001b[0m\u001b[0mfrom_array\u001b[0m\u001b[0;34m(\u001b[0m\u001b[0mdata\u001b[0m\u001b[0;34m,\u001b[0m \u001b[0mindex\u001b[0m\u001b[0;34m)\u001b[0m\u001b[0;34m\u001b[0m\u001b[0;34m\u001b[0m\u001b[0m\n",
      "\u001b[0;32m~/python36/lib64/python3.6/site-packages/pandas/core/construction.py\u001b[0m in \u001b[0;36msanitize_array\u001b[0;34m(data, index, dtype, copy, raise_cast_failure)\u001b[0m\n\u001b[1;32m    494\u001b[0m     \u001b[0;32melif\u001b[0m \u001b[0msubarr\u001b[0m\u001b[0;34m.\u001b[0m\u001b[0mndim\u001b[0m \u001b[0;34m>\u001b[0m \u001b[0;36m1\u001b[0m\u001b[0;34m:\u001b[0m\u001b[0;34m\u001b[0m\u001b[0;34m\u001b[0m\u001b[0m\n\u001b[1;32m    495\u001b[0m         \u001b[0;32mif\u001b[0m \u001b[0misinstance\u001b[0m\u001b[0;34m(\u001b[0m\u001b[0mdata\u001b[0m\u001b[0;34m,\u001b[0m \u001b[0mnp\u001b[0m\u001b[0;34m.\u001b[0m\u001b[0mndarray\u001b[0m\u001b[0;34m)\u001b[0m\u001b[0;34m:\u001b[0m\u001b[0;34m\u001b[0m\u001b[0;34m\u001b[0m\u001b[0m\n\u001b[0;32m--> 496\u001b[0;31m             \u001b[0;32mraise\u001b[0m \u001b[0mException\u001b[0m\u001b[0;34m(\u001b[0m\u001b[0;34m\"Data must be 1-dimensional\"\u001b[0m\u001b[0;34m)\u001b[0m\u001b[0;34m\u001b[0m\u001b[0;34m\u001b[0m\u001b[0m\n\u001b[0m\u001b[1;32m    497\u001b[0m         \u001b[0;32melse\u001b[0m\u001b[0;34m:\u001b[0m\u001b[0;34m\u001b[0m\u001b[0;34m\u001b[0m\u001b[0m\n\u001b[1;32m    498\u001b[0m             \u001b[0msubarr\u001b[0m \u001b[0;34m=\u001b[0m \u001b[0mcom\u001b[0m\u001b[0;34m.\u001b[0m\u001b[0masarray_tuplesafe\u001b[0m\u001b[0;34m(\u001b[0m\u001b[0mdata\u001b[0m\u001b[0;34m,\u001b[0m \u001b[0mdtype\u001b[0m\u001b[0;34m=\u001b[0m\u001b[0mdtype\u001b[0m\u001b[0;34m)\u001b[0m\u001b[0;34m\u001b[0m\u001b[0;34m\u001b[0m\u001b[0m\n",
      "\u001b[0;31mException\u001b[0m: Data must be 1-dimensional"
     ]
    }
   ],
   "source": [
    "data_for_plot = pd.DataFrame(columns=['lr_model', 'august'])\n",
    "data_for_plot['lr_model'] = lr_october\n",
    "data_for_plot['august'] = y\n",
    "data_for_plot"
   ]
  },
  {
   "cell_type": "code",
   "execution_count": 169,
   "id": "d0343802",
   "metadata": {},
   "outputs": [
    {
     "data": {
      "image/png": "[encoded data removed]",
      "text/plain": [
       "<Figure size 432x288 with 1 Axes>"
      ]
     },
     "metadata": {
      "needs_background": "light"
     },
     "output_type": "display_data"
    }
   ],
   "source": [
    "plt.grid()\n",
    "plt.plot(range(1,len(y) + 1), y, label = 'augst')\n",
    "plt.plot(range(1, len(lr_october) + 1), lr_october, label = 'lr_model')\n",
    "plt.plot(range(1, len(gb_october) + 1), gb_october, label = 'gb_model')\n",
    "plt.legend()\n",
    "plt.show()"
   ]
  },
  {
   "cell_type": "markdown",
   "id": "6c967c58",
   "metadata": {},
   "source": [
    "Градиентный бустинг дал наилучший результ. Линейная модель все-таки слишком прямолинейна."
   ]
  },
  {
   "cell_type": "code",
   "execution_count": null,
   "id": "28414ecc",
   "metadata": {},
   "outputs": [],
   "source": [
    "plt.grid()\n",
    "plt.scatter(range(1, len(october) + 1), october)"
   ]
  },
  {
   "cell_type": "code",
   "execution_count": null,
   "id": "543e6bd2",
   "metadata": {},
   "outputs": [],
   "source": [
    "y = np.delete(y, np.argwhere( y == 'nan'))\n",
    "y"
   ]
  },
  {
   "cell_type": "code",
   "execution_count": null,
   "id": "c1cfa82a",
   "metadata": {},
   "outputs": [],
   "source": [
    "model = LinearRegression()\n",
    "x_train = y.sum[:-20]\n",
    "x_test = y.sum[-20:]\n",
    "\n",
    "x_train, x_test\n",
    "\n",
    "#model.fit(x)"
   ]
  },
  {
   "cell_type": "code",
   "execution_count": null,
   "id": "01cd65aa",
   "metadata": {},
   "outputs": [],
   "source": [
    "x = data['date'].where((data['month'] == 8) & (data['TERMINAL_ID'] == 11003))\n",
    "y = data['sum'].where((data['month'] == 8) & (data['TERMINAL_ID'] == 11003))\n",
    "\n",
    "plt.grid()\n",
    "plt.scatter(x, y)"
   ]
  },
  {
   "cell_type": "code",
   "execution_count": null,
   "id": "08e05486",
   "metadata": {},
   "outputs": [],
   "source": [
    "x = data['date'].where((data['month'] == 9) & (data['TERMINAL_ID'] == 11003))\n",
    "y = data['sum'].where((data['month'] == 9) & (data['TERMINAL_ID'] == 11003))\n",
    "\n",
    "plt.grid()\n",
    "plt.scatter(x, y)"
   ]
  },
  {
   "cell_type": "code",
   "execution_count": null,
   "id": "e1842a74",
   "metadata": {},
   "outputs": [],
   "source": []
  }
 ],
 "metadata": {
  "kernelspec": {
   "display_name": "Python 3 (ipykernel)",
   "language": "python",
   "name": "python3"
  },
  "language_info": {
   "codemirror_mode": {
    "name": "ipython",
    "version": 3
   },
   "file_extension": ".py",
   "mimetype": "text/x-python",
   "name": "python",
   "nbconvert_exporter": "python",
   "pygments_lexer": "ipython3",
   "version": "3.6.15"
  }
 },
 "nbformat": 4,
 "nbformat_minor": 5
}
